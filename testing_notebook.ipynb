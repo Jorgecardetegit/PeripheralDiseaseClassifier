{
 "cells": [
  {
   "cell_type": "code",
   "execution_count": 1,
   "metadata": {},
   "outputs": [
    {
     "name": "stderr",
     "output_type": "stream",
     "text": [
      "c:\\Users\\JCardeteLl\\AppData\\Local\\Programs\\Python\\Python312\\Lib\\site-packages\\tqdm\\auto.py:21: TqdmWarning: IProgress not found. Please update jupyter and ipywidgets. See https://ipywidgets.readthedocs.io/en/stable/user_install.html\n",
      "  from .autonotebook import tqdm as notebook_tqdm\n"
     ]
    }
   ],
   "source": [
    "import numpy as np\n",
    "import tensorflow as tf\n",
    "import matplotlib.pyplot as plt \n",
    "\n",
    "from peripheralManager import PeripheralManager\n",
    "from components.CellVisualizer.visualizer import CellVisualizer\n",
    "from components.cellExtractor.extractor import cellExtractor\n",
    "\n",
    "peripheral_manager = PeripheralManager()\n",
    "cell_visualizer = CellVisualizer()"
   ]
  },
  {
   "cell_type": "code",
   "execution_count": 2,
   "metadata": {},
   "outputs": [
    {
     "name": "stdout",
     "output_type": "stream",
     "text": [
      "Found 1328 files belonging to 7 classes.\n",
      "Found 99 files belonging to 10 classes.\n"
     ]
    }
   ],
   "source": [
    "directory1 = \"C:/Users/JCardeteLl/Documents/TFG/Bases_de_datos/images_x100_cellavision_fundacion\"\n",
    "directory2 = \"C:/Users/JCardeteLl/Documents/TFG/Bases_de_datos/images_x60_reales_fundacion\"\n",
    "\n",
    "\n",
    "# Create a dataset\n",
    "dataset_100 = tf.keras.preprocessing.image_dataset_from_directory(\n",
    "    directory1,\n",
    "    image_size=(360, 363),  # Resize images to this size\n",
    "    batch_size=32,          # Number of images to return in each batch\n",
    "    label_mode='int'        # Labels are returned as integers (you can also use 'categorical' or 'binary')\n",
    ")\n",
    "\n",
    "dataset_60 = tf.keras.preprocessing.image_dataset_from_directory(\n",
    "    directory2,\n",
    "    image_size=(360, 363),  # Resize images to this size\n",
    "    batch_size=32,          # Number of images to return in each batch\n",
    "    label_mode='int'        # Labels are returned as integers (you can also use 'categorical' or 'binary')\n",
    ")"
   ]
  },
  {
   "cell_type": "code",
   "execution_count": 3,
   "metadata": {},
   "outputs": [],
   "source": [
    "def category_count(dataset):\n",
    "        category_counts = {}\n",
    "\n",
    "        # Iterate over the dataset\n",
    "        for images, labels in dataset:\n",
    "            for label in labels.numpy():  # Convert labels to numpy array for processing\n",
    "                if label in category_counts:\n",
    "                    category_counts[label] += 1\n",
    "                else:\n",
    "                    category_counts[label] = 1\n",
    "\n",
    "        # Create a dictionary to store the counts with class names as keys\n",
    "        class_name_counts = {}\n",
    "        class_names = dataset.class_names\n",
    "        for label, count in category_counts.items():\n",
    "            class_name_counts[class_names[label]] = count\n",
    "\n",
    "        return class_name_counts\n",
    "\n",
    "\n",
    "def get_sample_images(name: str, num_images: int, dataset) -> list:\n",
    "    \"\"\"\n",
    "    Collects a specified number of images from the dataset that match the given class name.\n",
    "    \n",
    "    Args:\n",
    "    name (str): The name of the class to find images of.\n",
    "    num_images (int): The number of images to collect.\n",
    "\n",
    "    Returns:\n",
    "    List[np.ndarray]: A list of images as numpy arrays.\n",
    "    \"\"\"\n",
    "    target_index = dataset.class_names.index(name)\n",
    "    collected_images = []\n",
    "\n",
    "    for images, labels in dataset.take(num_images):  # Adjust the number of batches taken if needed\n",
    "        for image, label in zip(images, labels):\n",
    "            if label == target_index and len(collected_images) < num_images:\n",
    "                collected_images.append(image.numpy().astype(\"uint8\"))\n",
    "            if len(collected_images) == num_images:\n",
    "                break\n",
    "        if len(collected_images) == num_images:\n",
    "            break\n",
    "\n",
    "    return collected_images\n",
    "\n",
    "def sample_visualize(sample_images: list, rows: int, columns: int, cmap: str = None):\n",
    "    \"\"\"\n",
    "    Visualizes a sample of images from the dataset that match the given class name in a grid format.\n",
    "\n",
    "    Args:\n",
    "    sample_images (list): List of images to visualize.\n",
    "    rows (int): The number of rows in the image grid.\n",
    "    columns (int): The number of columns in the image grid.\n",
    "    cmap (str, optional): Color map to use for displaying images.\n",
    "    \"\"\"\n",
    "    max_images = rows * columns  # Define the maximum number of images to display\n",
    "    fig, axes = plt.subplots(rows, columns, figsize=(5 * columns, 5 * rows))\n",
    "    axes = axes.flatten()  # Flatten the array of axes to make iterating easier\n",
    "\n",
    "    for ax, img in zip(axes, sample_images[:max_images]):\n",
    "        ax.imshow(img, cmap=cmap)\n",
    "        ax.axis('off')\n",
    "\n",
    "    # Turn off any unused axes\n",
    "    for ax in axes[len(sample_images):]:\n",
    "        ax.axis('off')\n",
    "\n",
    "    plt.show()"
   ]
  },
  {
   "cell_type": "code",
   "execution_count": null,
   "metadata": {},
   "outputs": [],
   "source": [
    "def main_process_visualizer(sample: np.ndarray):\n",
    "    grayscale_sample = [peripheral_manager.convert_grayscale(image = line, converter=\"simple\") for line in sample]  \n",
    "\n",
    "    binarymask_sample = [peripheral_manager.binary_mask(grayscale_image = line, masker=\"adaptative\") for line in grayscale_sample] \n",
    "\n",
    "    locations_sample =  [peripheral_manager.cell_localizers(binary_image = line, localizer=\"simple\") for line in binarymask_sample] \n",
    "\n",
    "    cellMasker_sample = [peripheral_manager.size_mask(locations = line, masker = \"SizeMasker\") for line in locations_sample]\n",
    "\n",
    "    filtered_locations_sample = [cell_visualizer.visualize_bounding_boxes(image = line1, bounding_boxes = line2, classifications = [\"tricholeukemia\"]*8) for line1, line2 in zip(sample, cellMasker_sample)]\n",
    "\n",
    "    return grayscale_sample, binarymask_sample, locations_sample, cellMasker_sample, filtered_locations_sample\n",
    "\n",
    "\n",
    "\n",
    "def main_process_visualizer_single(image: np.ndarray):\n",
    "    grayscale_sample = peripheral_manager.convert_grayscale(image = image, \n",
    "                                                            converter=\"simple\")\n",
    "\n",
    "    binarymask_sample = peripheral_manager.binary_mask(grayscale_image = grayscale_sample, \n",
    "                                                       masker=\"adaptative\")\n",
    "\n",
    "    locations_sample =  peripheral_manager.cell_localizers(binary_image = binarymask_sample, \n",
    "                                                           localizer=\"simple\")\n",
    "\n",
    "    cellMasker_sample = peripheral_manager.size_mask(locations = locations_sample, \n",
    "                                                     masker = \"SizeMasker\")\n",
    "\n",
    "    filtered_locations_sample = cell_visualizer.visualize_bounding_boxes(image = image, \n",
    "                                                                         bounding_boxes = cellMasker_sample, \n",
    "                                                                         classifications = [\"tricholeukemia\"]*len(cellMasker_sample))\n",
    "\n",
    "    return grayscale_sample, binarymask_sample, locations_sample, cellMasker_sample, filtered_locations_sample"
   ]
  },
  {
   "cell_type": "code",
   "execution_count": null,
   "metadata": {},
   "outputs": [],
   "source": [
    "count_dict = category_count(dataset_60)\n",
    "cells_dict = {}\n",
    "cells_process={}\n",
    "\n",
    "for class_name, count in count_dict.items():\n",
    "    cells_dict[class_name] = get_sample_images(class_name, count, dataset_60)\n",
    "    cells_process[class_name] = main_process_visualizer(cells_dict[class_name])"
   ]
  },
  {
   "cell_type": "code",
   "execution_count": null,
   "metadata": {},
   "outputs": [],
   "source": [
    "print(count_dict)"
   ]
  },
  {
   "cell_type": "code",
   "execution_count": null,
   "metadata": {},
   "outputs": [],
   "source": [
    "sample_visualize(cells_process[\"Linfocitos normales\"][4], 1, 4)"
   ]
  },
  {
   "cell_type": "code",
   "execution_count": null,
   "metadata": {},
   "outputs": [],
   "source": [
    "sample_visualize(cells_process[\"Leucemia aguda linfoblastica\"][4], 1, 3)"
   ]
  },
  {
   "cell_type": "code",
   "execution_count": null,
   "metadata": {},
   "outputs": [],
   "source": [
    "sample_visualize(cells_process[\"Linfocitos vellosos\"][4], 1, 7)"
   ]
  },
  {
   "cell_type": "code",
   "execution_count": null,
   "metadata": {},
   "outputs": [],
   "source": [
    "sample_visualize(cells_process[\"Linfoma del manto\"][4], 1, 6)"
   ]
  },
  {
   "cell_type": "code",
   "execution_count": null,
   "metadata": {},
   "outputs": [],
   "source": [
    "sample_visualize(cells_process[\"LLC\"][4], 1, 2)"
   ]
  },
  {
   "cell_type": "code",
   "execution_count": null,
   "metadata": {},
   "outputs": [],
   "source": [
    "sample_visualize(cells_process[\"Plasmatica\"][4], 1, 5)"
   ]
  },
  {
   "cell_type": "code",
   "execution_count": null,
   "metadata": {},
   "outputs": [],
   "source": [
    "sample_visualize(cells_process[\"Sezary\"][4], 1, 5)"
   ]
  },
  {
   "cell_type": "code",
   "execution_count": null,
   "metadata": {},
   "outputs": [],
   "source": [
    "sample_visualize(cells_process[\"Tricholeukemia\"][4], 3, 4)"
   ]
  },
  {
   "cell_type": "code",
   "execution_count": null,
   "metadata": {},
   "outputs": [],
   "source": [
    "image = plt.imread(r\"C:\\Users\\JCardeteLl\\Documents\\TFG\\Bases_de_datos\\images_x60_reales_fundacion\\Marginal\\IMG_7863.jpg\")\n",
    "\n",
    "image_processed = main_process_visualizer_single(image)\n",
    "\n",
    "\n",
    "fig, axes = plt.subplots(nrows = 1, ncols = 3, figsize = (20, 8))\n",
    "\n",
    "axes[0].imshow(image_processed[0], cmap = \"gray\")\n",
    "axes[0].axis(\"off\")\n",
    "\n",
    "axes[1].imshow(image_processed[1], cmap = \"gray\")\n",
    "axes[1].axis(\"off\")\n",
    "\n",
    "axes[2].imshow(image_processed[4])\n",
    "axes[2].axis(\"off\")\n",
    "\n",
    "plt.show()\n"
   ]
  },
  {
   "cell_type": "code",
   "execution_count": null,
   "metadata": {},
   "outputs": [],
   "source": [
    "list_images = get_sample_images(\"Leucemia aguda linfoblastica\", 4, dataset_60)"
   ]
  },
  {
   "cell_type": "code",
   "execution_count": null,
   "metadata": {},
   "outputs": [],
   "source": [
    "plt.imshow(list_images[0])\n",
    "plt.axis(\"off\")\n",
    "plt.show()"
   ]
  },
  {
   "cell_type": "code",
   "execution_count": null,
   "metadata": {},
   "outputs": [],
   "source": [
    "grayscale_sample = peripheral_manager.convert_grayscale(image = image, \n",
    "                                                            converter=\"simple\")"
   ]
  },
  {
   "cell_type": "code",
   "execution_count": null,
   "metadata": {},
   "outputs": [],
   "source": [
    "plt.imshow(grayscale_sample, cmap = \"gray\")\n",
    "plt.axis(\"off\")\n",
    "plt.show()"
   ]
  },
  {
   "cell_type": "code",
   "execution_count": null,
   "metadata": {},
   "outputs": [],
   "source": [
    "binarymask_sample = peripheral_manager.binary_mask(grayscale_image = grayscale_sample, \n",
    "                                                       masker=\"adaptative\")"
   ]
  },
  {
   "cell_type": "code",
   "execution_count": null,
   "metadata": {},
   "outputs": [],
   "source": [
    "plt.imshow(binarymask_sample, cmap = \"gray\")\n",
    "plt.axis(\"off\")\n",
    "plt.show()"
   ]
  },
  {
   "cell_type": "code",
   "execution_count": null,
   "metadata": {},
   "outputs": [],
   "source": [
    "image = plt.imread(r\"C:\\Users\\JCardeteLl\\Documents\\TFG\\Bases_de_datos\\images_x60_reales_fundacion\\Leucemia aguda linfoblastica\\image3.jpg\")"
   ]
  },
  {
   "cell_type": "markdown",
   "metadata": {},
   "source": []
  },
  {
   "cell_type": "code",
   "execution_count": null,
   "metadata": {},
   "outputs": [],
   "source": [
    "plt.imshow(image)\n",
    "plt.axis(\"off\")\n",
    "plt.show()"
   ]
  },
  {
   "cell_type": "code",
   "execution_count": null,
   "metadata": {},
   "outputs": [],
   "source": [
    "grayscale_sample = peripheral_manager.convert_grayscale(image = image, \n",
    "                                                            converter=\"simple\")"
   ]
  },
  {
   "cell_type": "code",
   "execution_count": null,
   "metadata": {},
   "outputs": [],
   "source": [
    "plt.imshow(grayscale_sample, cmap = \"gray\")\n",
    "plt.axis(\"off\")\n",
    "plt.show()"
   ]
  },
  {
   "cell_type": "code",
   "execution_count": null,
   "metadata": {},
   "outputs": [],
   "source": [
    "binarymask_sample = peripheral_manager.binary_mask(grayscale_image = grayscale_sample, \n",
    "                                                       masker=\"adaptative\")"
   ]
  },
  {
   "cell_type": "code",
   "execution_count": null,
   "metadata": {},
   "outputs": [],
   "source": [
    "plt.imshow(binarymask_sample, cmap = \"gray\")\n",
    "plt.axis(\"off\")\n",
    "plt.show()"
   ]
  },
  {
   "cell_type": "code",
   "execution_count": null,
   "metadata": {},
   "outputs": [],
   "source": [
    "def main_process_visualizer_single(image: np.ndarray):\n",
    "    grayscale_sample = peripheral_manager.convert_grayscale(image = image, \n",
    "                                                            converter=\"simple\")\n",
    "\n",
    "    binarymask_sample = peripheral_manager.binary_mask(grayscale_image = grayscale_sample, \n",
    "                                                       masker=\"adaptative\")\n",
    "\n",
    "    locations_sample =  peripheral_manager.cell_localizers(binary_image = binarymask_sample, \n",
    "                                                           localizer=\"simple\")\n",
    "\n",
    "    cellMasker_sample = peripheral_manager.size_mask(locations = locations_sample, \n",
    "                                                     masker = \"SizeMasker\")\n",
    "\n",
    "    filtered_locations_sample = cell_visualizer.visualize_bounding_boxes(image = image, \n",
    "                                                                         bounding_boxes = cellMasker_sample, \n",
    "                                                                         classifications = [\"tricholeukemia\"]*len(cellMasker_sample))\n",
    "\n",
    "    return grayscale_sample, binarymask_sample, locations_sample, cellMasker_sample, filtered_locations_sample"
   ]
  }
 ],
 "metadata": {
  "kernelspec": {
   "display_name": "Python 3",
   "language": "python",
   "name": "python3"
  },
  "language_info": {
   "codemirror_mode": {
    "name": "ipython",
    "version": 3
   },
   "file_extension": ".py",
   "mimetype": "text/x-python",
   "name": "python",
   "nbconvert_exporter": "python",
   "pygments_lexer": "ipython3",
   "version": "3.12.3"
  }
 },
 "nbformat": 4,
 "nbformat_minor": 2
}
